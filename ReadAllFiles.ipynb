{
 "cells": [
  {
   "cell_type": "code",
   "execution_count": 83,
   "metadata": {},
   "outputs": [],
   "source": [
    "import io\n",
    "import pickle\n",
    "from os import listdir\n",
    "from os.path import isfile, join\n",
    "from bs4 import BeautifulSoup"
   ]
  },
  {
   "cell_type": "code",
   "execution_count": 84,
   "metadata": {},
   "outputs": [],
   "source": []
  },
  {
   "cell_type": "code",
   "execution_count": 85,
   "metadata": {},
   "outputs": [],
   "source": []
  },
  {
   "cell_type": "code",
   "execution_count": 86,
   "metadata": {},
   "outputs": [],
   "source": [
    "folder = '.'\n",
    "\n",
    "message_files = [f for f in listdir(folder) if isfile(join(folder, f)) and '.html' in f]\n",
    "\n",
    "messages = []\n",
    "for f in message_files[:2]:\n",
    "    with io.open(f, 'r', encoding=\"utf-8\") as f:\n",
    "        src = f.read()\n",
    "        soup = BeautifulSoup(src, 'lxml')\n",
    "        messages += [i.string for i in soup.select(\"div.message.default\")]"
   ]
  },
  {
   "cell_type": "code",
   "execution_count": 87,
   "metadata": {},
   "outputs": [
    {
     "data": {
      "text/plain": [
       "1997"
      ]
     },
     "execution_count": 87,
     "metadata": {},
     "output_type": "execute_result"
    }
   ],
   "source": [
    "len(messages)"
   ]
  },
  {
   "cell_type": "code",
   "execution_count": 88,
   "metadata": {},
   "outputs": [],
   "source": [
    "with open('messages.pkl', 'wb') as f:\n",
    "    pickle.dump(messages, f)"
   ]
  },
  {
   "cell_type": "code",
   "execution_count": 78,
   "metadata": {},
   "outputs": [
    {
     "data": {
      "text/plain": [
       "<div class=\"message default clearfix joined\" id=\"message185588\">\n",
       "<div class=\"body\">\n",
       "<div class=\"pull_right date details\" title=\"28.01.2019 10:00:33\">\n",
       "10:00\n",
       "       </div>\n",
       "<div class=\"media_wrap clearfix\">\n",
       "<div class=\"media clearfix pull_left media_photo\">\n",
       "<div class=\"fill pull_left\">\n",
       "</div>\n",
       "<div class=\"body\">\n",
       "<div class=\"title bold\">\n",
       "Photo\n",
       "          </div>\n",
       "<div class=\"description\">\n",
       "Not included, change data exporting settings to download.\n",
       "          </div>\n",
       "<div class=\"status details\">\n",
       "604x453, 78.2 KB\n",
       "          </div>\n",
       "</div>\n",
       "</div>\n",
       "</div>\n",
       "</div>\n",
       "</div>"
      ]
     },
     "execution_count": 78,
     "metadata": {},
     "output_type": "execute_result"
    }
   ],
   "source": [
    "messages[1005]"
   ]
  },
  {
   "cell_type": "code",
   "execution_count": null,
   "metadata": {},
   "outputs": [],
   "source": []
  }
 ],
 "metadata": {
  "kernelspec": {
   "display_name": "Python [conda env:ml]",
   "language": "python",
   "name": "conda-env-ml-py"
  },
  "language_info": {
   "codemirror_mode": {
    "name": "ipython",
    "version": 3
   },
   "file_extension": ".py",
   "mimetype": "text/x-python",
   "name": "python",
   "nbconvert_exporter": "python",
   "pygments_lexer": "ipython3",
   "version": "3.6.6"
  }
 },
 "nbformat": 4,
 "nbformat_minor": 2
}
